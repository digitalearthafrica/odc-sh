{
 "cells": [
  {
   "cell_type": "markdown",
   "id": "287541bc",
   "metadata": {},
   "source": [
    "# Commercial data"
   ]
  },
  {
   "cell_type": "markdown",
   "id": "141952c8",
   "metadata": {},
   "source": [
    "For use of commercial data you have to first provide your sentinel-hub account client id and client secret."
   ]
  },
  {
   "cell_type": "code",
   "execution_count": null,
   "id": "2078c6c9",
   "metadata": {},
   "outputs": [],
   "source": [
    "from sentinelhub import SHConfig\n",
    "from oauthlib.oauth2 import BackendApplicationClient\n",
    "from requests_oauthlib import OAuth2Session\n",
    "import SentinelHubCommercialData from SentinelHubCommercialData\n",
    "\n",
    "config = SHConfig()\n",
    "config.sh_client_id = '<client-id>'\n",
    "config.sh_client_secret = '<client-secret>'\n",
    "config.sh_base_url = \"https://services.sentinel-hub.com\"\n",
    "\n",
    "shcd = SentinelHubCommercialData(config)"
   ]
  },
  {
   "cell_type": "markdown",
   "id": "544c40c5",
   "metadata": {},
   "source": [
    "## Getting quotas"
   ]
  },
  {
   "cell_type": "code",
   "execution_count": 6,
   "id": "d726d2a0",
   "metadata": {},
   "outputs": [
    {
     "ename": "NameError",
     "evalue": "name 'schd' is not defined",
     "output_type": "error",
     "traceback": [
      "\u001b[0;31m---------------------------------------------------------------------------\u001b[0m",
      "\u001b[0;31mNameError\u001b[0m                                 Traceback (most recent call last)",
      "Cell \u001b[0;32mIn [6], line 2\u001b[0m\n\u001b[1;32m      1\u001b[0m \u001b[38;5;66;03m# Optional: To get single quota add quota_id as parameter\u001b[39;00m\n\u001b[0;32m----> 2\u001b[0m \u001b[43mschd\u001b[49m\u001b[38;5;241m.\u001b[39mquotas()\n",
      "\u001b[0;31mNameError\u001b[0m: name 'schd' is not defined"
     ]
    }
   ],
   "source": [
    "# Optional 1: To get single quota add id as parameter\n",
    "#\n",
    "#     shcd.quotas(\"asd124-12ddas...\")\n",
    "#\n",
    "# Optional 2: Get raw response\n",
    "#\n",
    "#     shcd.quotas(raw=True)\n",
    "#\n",
    "\n",
    "shcd.quotas();\n",
    "\n"
   ]
  },
  {
   "cell_type": "markdown",
   "id": "9f73a1de",
   "metadata": {},
   "source": [
    "# Simple search"
   ]
  },
  {
   "cell_type": "markdown",
   "id": "5625abdd",
   "metadata": {},
   "source": [
    "Setting date and time"
   ]
  },
  {
   "cell_type": "code",
   "execution_count": null,
   "id": "1145316c",
   "metadata": {},
   "outputs": [],
   "source": [
    "time_from = \"2017-05-25T00:00:00Z\"\n",
    "time_to = \"2017-10-25T23:59:59Z\""
   ]
  },
  {
   "cell_type": "markdown",
   "id": "b3d13a03",
   "metadata": {},
   "source": [
    "Setting search area"
   ]
  },
  {
   "cell_type": "code",
   "execution_count": null,
   "id": "4035d0ed",
   "metadata": {},
   "outputs": [],
   "source": [
    "# Option 1: Set bounds as bbox\n",
    "bounds = [\n",
    "  12.742243,\n",
    "  42.05043,\n",
    "  12.746302,\n",
    "  42.053218\n",
    "]\n",
    "\n",
    "# Option 2: Set bounds as Polygon\n",
    "bounds = {\n",
    " \"geometry\": {\n",
    "  \"type\": \"Polygon\",\n",
    "  \"coordinates\": [\n",
    "   [\n",
    "    [\n",
    "     12.500395,\n",
    "     41.931337\n",
    "    ],\n",
    "    [\n",
    "     12.507856,\n",
    "     41.931018\n",
    "    ],\n",
    "    [\n",
    "     12.507513,\n",
    "     41.927825\n",
    "    ],\n",
    "    [\n",
    "     12.50048,\n",
    "     41.928719\n",
    "    ],\n",
    "    [\n",
    "     12.500395,\n",
    "     41.931337\n",
    "    ]\n",
    "   ]\n",
    "  ]\n",
    " }\n",
    "}"
   ]
  },
  {
   "cell_type": "markdown",
   "id": "66a2ace5",
   "metadata": {},
   "source": [
    "### AIRBUS Pleiades & SPOT"
   ]
  },
  {
   "cell_type": "code",
   "execution_count": null,
   "id": "9d85fc01",
   "metadata": {},
   "outputs": [],
   "source": [
    "from CommercialDataBase import Providers, AirbusType, ThumbnailType\n",
    "\n",
    "# Option 1: AIRBUS Pleiades & SPOT\n",
    "# Optional parameters: \n",
    "#    - maxCloudCoverage (Values: 0-100 | 100 as default)\n",
    "#    - maxSnowCoverage (Vaules: 0-90 | 90 as default)\n",
    "#    - maxIncidenceAngle (Values: 0-90 | 90 as default)\n",
    "#    - processingLevel (Values: \"Sensor\",\"Album\" | \"Sensor\",\"Album\" as default)\n",
    "#\n",
    "#  example: shcd.search_airbus(AirbusType, Bounds, Time_From, Time_To, *Optional parameters*)\n",
    "\n",
    "(data, query) = shcd.search_airbus(AirbusType.SPOT, bounds, time_from, time_to, maxCloudCoverage=90, maxSnowCoverage=50)\n",
    "\n",
    "# Getting ids\n",
    "item_ids = [feature[\"properties\"][\"id\"] for feature in data.features]\n"
   ]
  },
  {
   "cell_type": "markdown",
   "id": "b038125f",
   "metadata": {},
   "source": [
    "### Planet SCOPE"
   ]
  },
  {
   "cell_type": "code",
   "execution_count": null,
   "id": "fc35da9d",
   "metadata": {},
   "outputs": [],
   "source": [
    "from CommercialDataBase import ScopeType, ScopeBundle\n",
    "\n",
    "# Option 2: Planet SCOPE\n",
    "# Optional parameters: \n",
    "#    - maxCloudCoverage (Values: 0-100 | 100 as default)\n",
    "#\n",
    "#  example: shcd.search_airbus(ScopeType, ScopeBundle, Bounds, Time_From, Time_To, *Optional parameters*)\n",
    "\n",
    "(data, query) = shcd.search_planet(ScopeType.PSScene, ScopeBundle.ANALYTIC_8B_UDM2, bounds, time_from, time_to, maxCloudCoverage=90)\n",
    "\n",
    "# Getting ids\n",
    "item_ids = [feature[\"id\"] for feature in data.features]\n"
   ]
  },
  {
   "cell_type": "markdown",
   "id": "04f34de8",
   "metadata": {},
   "source": [
    "### Planet SkySat"
   ]
  },
  {
   "cell_type": "code",
   "execution_count": null,
   "id": "8eb58f57",
   "metadata": {},
   "outputs": [],
   "source": [
    "from CommercialDataBase import SkySatType, SkySatBundle\n",
    "\n",
    "# Option 3: Planet SkySat\n",
    "#\n",
    "#  example: shcd.search_airbus(ScopeType, ScopeBundle, Bounds, Time_From, Time_To, planetApiKey=<your_planey_api_key>)\n",
    "\n",
    "(data, query) = shcd.search_planet(SkySatType.SkySatCollect, SkySatBundle.PANCHROMATIC, bounds, time_from, time_to, planetApiKey=<your_planey_api_key>)\n",
    "\n",
    "# Getting ids\n",
    "item_ids = [feature[\"id\"] for feature in data.features]\n",
    "\n"
   ]
  },
  {
   "cell_type": "markdown",
   "id": "c660699e",
   "metadata": {},
   "source": [
    "## Thumbnail"
   ]
  },
  {
   "cell_type": "code",
   "execution_count": null,
   "id": "af9bbfc1",
   "metadata": {},
   "outputs": [],
   "source": [
    "\n",
    "item_id = item_ids[0]\n",
    "thumbnail = shcd.thumbnail(ThumbnailType.SPOT, item_id)\n",
    "\n",
    "import io\n",
    "from PIL import Image\n",
    "\n",
    "image_bytes = io.BytesIO(thumbnail.content)\n",
    "Image.open(image_bytes)"
   ]
  },
  {
   "cell_type": "markdown",
   "id": "dc5957ad",
   "metadata": {},
   "source": [
    "# Data Order"
   ]
  },
  {
   "cell_type": "markdown",
   "id": "19989bde",
   "metadata": {},
   "source": [
    "### Query order: Airbus, Planet SkySat and Scope"
   ]
  },
  {
   "cell_type": "code",
   "execution_count": 4,
   "id": "aba3eb08",
   "metadata": {},
   "outputs": [],
   "source": [
    "response = shcd.order(\"New query order\", \"<your-collection-id>\", query)\n"
   ]
  },
  {
   "cell_type": "markdown",
   "id": "31236aa2",
   "metadata": {},
   "source": [
    "### Normal order: Airbus, Planet SkySat and Scope"
   ]
  },
  {
   "cell_type": "code",
   "execution_count": 4,
   "id": "e1d12af8",
   "metadata": {},
   "outputs": [],
   "source": [
    "response = shcd.order(\"New normal order\", \"<your-collection-id>\", query, item_ids)\n"
   ]
  },
  {
   "cell_type": "markdown",
   "id": "7d116cf1",
   "metadata": {},
   "source": [
    "### Getting orders"
   ]
  },
  {
   "cell_type": "code",
   "execution_count": null,
   "id": "f26ea74a",
   "metadata": {},
   "outputs": [],
   "source": [
    "# Optional: Get single order by adding order_id as parameter\n",
    "orders = shcd.get_orders()\n",
    "order_ids = [o[\"id\"] for o in orders[\"data\"]]\n",
    "order_id = order_ids[0]"
   ]
  },
  {
   "cell_type": "markdown",
   "id": "e6eaaff6",
   "metadata": {},
   "source": [
    "### Delete order"
   ]
  },
  {
   "cell_type": "code",
   "execution_count": null,
   "id": "8f6b89d2",
   "metadata": {},
   "outputs": [],
   "source": [
    "shcd.delete_order(order_id)"
   ]
  },
  {
   "cell_type": "markdown",
   "id": "c83fadf2",
   "metadata": {},
   "source": [
    "### Confirm orders"
   ]
  },
  {
   "cell_type": "code",
   "execution_count": null,
   "id": "1529fd4a",
   "metadata": {},
   "outputs": [],
   "source": [
    "shcd.confirm_order(order_id)"
   ]
  }
 ],
 "metadata": {
  "kernelspec": {
   "display_name": "Python 3 (ipykernel)",
   "language": "python",
   "name": "python3"
  },
  "language_info": {
   "codemirror_mode": {
    "name": "ipython",
    "version": 3
   },
   "file_extension": ".py",
   "mimetype": "text/x-python",
   "name": "python",
   "nbconvert_exporter": "python",
   "pygments_lexer": "ipython3",
   "version": "3.9.13"
  }
 },
 "nbformat": 4,
 "nbformat_minor": 5
}
