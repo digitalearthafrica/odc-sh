{
 "cells": [
  {
   "cell_type": "code",
   "execution_count": 15,
   "id": "d7855158",
   "metadata": {},
   "outputs": [],
   "source": [
    "#!pip install sentinelhub"
   ]
  },
  {
   "cell_type": "markdown",
   "id": "eff43ac1",
   "metadata": {},
   "source": [
    "# Commercial data"
   ]
  },
  {
   "cell_type": "markdown",
   "id": "b934c0f8",
   "metadata": {},
   "source": [
    "For use of commercial data you have to first provide your sentinel-hub account client id and client secret."
   ]
  },
  {
   "cell_type": "code",
   "execution_count": 14,
   "id": "379731d0",
   "metadata": {},
   "outputs": [
    {
     "ename": "ModuleNotFoundError",
     "evalue": "No module named 'sentinelhub'",
     "output_type": "error",
     "traceback": [
      "\u001b[0;31m---------------------------------------------------------------------------\u001b[0m",
      "\u001b[0;31mModuleNotFoundError\u001b[0m                       Traceback (most recent call last)",
      "Cell \u001b[0;32mIn [14], line 1\u001b[0m\n\u001b[0;32m----> 1\u001b[0m \u001b[38;5;28;01mfrom\u001b[39;00m \u001b[38;5;21;01msentinelhub\u001b[39;00m \u001b[38;5;28;01mimport\u001b[39;00m SHConfig\n\u001b[1;32m      2\u001b[0m \u001b[38;5;28;01mfrom\u001b[39;00m \u001b[38;5;21;01moauthlib\u001b[39;00m\u001b[38;5;21;01m.\u001b[39;00m\u001b[38;5;21;01moauth2\u001b[39;00m \u001b[38;5;28;01mimport\u001b[39;00m BackendApplicationClient\n\u001b[1;32m      3\u001b[0m \u001b[38;5;28;01mfrom\u001b[39;00m \u001b[38;5;21;01mrequests_oauthlib\u001b[39;00m \u001b[38;5;28;01mimport\u001b[39;00m OAuth2Session\n",
      "\u001b[0;31mModuleNotFoundError\u001b[0m: No module named 'sentinelhub'"
     ]
    }
   ],
   "source": [
    "from sentinelhub import SHConfig\n",
    "from oauthlib.oauth2 import BackendApplicationClient\n",
    "from requests_oauthlib import OAuth2Session\n",
    "from SentinelHubCommercialData import SentinelHubCommercialData\n",
    "\n",
    "config = SHConfig()\n",
    "config.sh_client_id = '<client-id>'\n",
    "config.sh_client_secret = '<client-secret>'\n",
    "config.sh_base_url = \"https://services.sentinel-hub.com\"\n",
    "\n",
    "shcd = SentinelHubCommercialData(config)"
   ]
  },
  {
   "cell_type": "markdown",
   "id": "0057d284",
   "metadata": {},
   "source": [
    "## Getting quotas"
   ]
  },
  {
   "cell_type": "code",
   "execution_count": 6,
   "id": "06d78d38",
   "metadata": {},
   "outputs": [
    {
     "ename": "NameError",
     "evalue": "name 'schd' is not defined",
     "output_type": "error",
     "traceback": [
      "\u001b[0;31m---------------------------------------------------------------------------\u001b[0m",
      "\u001b[0;31mNameError\u001b[0m                                 Traceback (most recent call last)",
      "Cell \u001b[0;32mIn [6], line 2\u001b[0m\n\u001b[1;32m      1\u001b[0m \u001b[38;5;66;03m# Optional: To get single quota add quota_id as parameter\u001b[39;00m\n\u001b[0;32m----> 2\u001b[0m \u001b[43mschd\u001b[49m\u001b[38;5;241m.\u001b[39mquotas()\n",
      "\u001b[0;31mNameError\u001b[0m: name 'schd' is not defined"
     ]
    }
   ],
   "source": [
    "# Optional 1: To get single quota add id as parameter\n",
    "#\n",
    "#     shcd.quotas(\"asd124-12ddas...\")\n",
    "#\n",
    "# Optional 2: Get raw response\n",
    "#\n",
    "#     shcd.quotas(raw=True)\n",
    "#\n",
    "\n",
    "shcd.quotas()\n",
    "\n"
   ]
  },
  {
   "cell_type": "markdown",
   "id": "91cf2178",
   "metadata": {},
   "source": [
    "# Simple search"
   ]
  },
  {
   "cell_type": "markdown",
   "id": "af9b5953",
   "metadata": {},
   "source": [
    "Setting date and time"
   ]
  },
  {
   "cell_type": "code",
   "execution_count": null,
   "id": "44cf06d9",
   "metadata": {},
   "outputs": [],
   "source": [
    "time_from = \"2017-05-25T00:00:00Z\"\n",
    "time_to = \"2017-10-25T23:59:59Z\""
   ]
  },
  {
   "cell_type": "markdown",
   "id": "2ef95db9",
   "metadata": {},
   "source": [
    "Setting search area"
   ]
  },
  {
   "cell_type": "code",
   "execution_count": null,
   "id": "6b99cbe2",
   "metadata": {},
   "outputs": [],
   "source": [
    "# Option 1: Set bounds as bbox\n",
    "bounds = [\n",
    "  12.742243,\n",
    "  42.05043,\n",
    "  12.746302,\n",
    "  42.053218\n",
    "]\n",
    "\n",
    "# Option 2: Set bounds as Polygon\n",
    "bounds = {\n",
    " \"geometry\": {\n",
    "  \"type\": \"Polygon\",\n",
    "  \"coordinates\": [\n",
    "   [\n",
    "    [\n",
    "     12.500395,\n",
    "     41.931337\n",
    "    ],\n",
    "    [\n",
    "     12.507856,\n",
    "     41.931018\n",
    "    ],\n",
    "    [\n",
    "     12.507513,\n",
    "     41.927825\n",
    "    ],\n",
    "    [\n",
    "     12.50048,\n",
    "     41.928719\n",
    "    ],\n",
    "    [\n",
    "     12.500395,\n",
    "     41.931337\n",
    "    ]\n",
    "   ]\n",
    "  ]\n",
    " }\n",
    "}"
   ]
  },
  {
   "cell_type": "markdown",
   "id": "2f9e6b49",
   "metadata": {},
   "source": [
    "### AIRBUS Pleiades & SPOT"
   ]
  },
  {
   "cell_type": "code",
   "execution_count": null,
   "id": "41c6f37f",
   "metadata": {},
   "outputs": [],
   "source": [
    "from CommercialDataBase import Providers, AirbusType, ThumbnailType\n",
    "\n",
    "# Option 1: AIRBUS Pleiades & SPOT\n",
    "# Optional parameters: \n",
    "#    - maxCloudCoverage (Values: 0-100 | 100 as default)\n",
    "#    - maxSnowCoverage (Vaules: 0-90 | 90 as default)\n",
    "#    - maxIncidenceAngle (Values: 0-90 | 90 as default)\n",
    "#    - processingLevel (Values: \"Sensor\",\"Album\" | \"Sensor\",\"Album\" as default)\n",
    "#\n",
    "#  example: shcd.search_airbus(AirbusConstellation, Bounds, Time_From, Time_To, *Optional parameters*)\n",
    "\n",
    "(data, query) = shcd.search_airbus(AirbusConstellation.SPOT, bounds, time_from, time_to, maxCloudCoverage=90, maxSnowCoverage=50)\n",
    "\n",
    "# Getting ids\n",
    "item_ids = [feature[\"properties\"][\"id\"] for feature in data.features]\n"
   ]
  },
  {
   "cell_type": "markdown",
   "id": "0d5342ba",
   "metadata": {},
   "source": [
    "### Planet SCOPE"
   ]
  },
  {
   "cell_type": "code",
   "execution_count": null,
   "id": "344a6838",
   "metadata": {},
   "outputs": [],
   "source": [
    "from CommercialDataBase import ScopeType, ScopeBundle\n",
    "\n",
    "# Option 2: Planet SCOPE\n",
    "# Optional parameters: \n",
    "#    - maxCloudCoverage (Values: 0-100 | 100 as default)\n",
    "#\n",
    "#  example: shcd.search_airbus(ScopeType, ScopeBundle, Bounds, Time_From, Time_To, *Optional parameters*)\n",
    "\n",
    "(data, query) = shcd.search_planet(ScopeType.PSScene, ScopeBundle.ANALYTIC_8B_UDM2, bounds, time_from, time_to, maxCloudCoverage=90)\n",
    "\n",
    "# Getting ids\n",
    "item_ids = [feature[\"id\"] for feature in data.features]\n"
   ]
  },
  {
   "cell_type": "markdown",
   "id": "01c9d01b",
   "metadata": {},
   "source": [
    "### Planet SkySat"
   ]
  },
  {
   "cell_type": "code",
   "execution_count": null,
   "id": "a6e96f32",
   "metadata": {},
   "outputs": [],
   "source": [
    "from CommercialDataBase import SkySatType, SkySatBundle\n",
    "\n",
    "# Option 3: Planet SkySat\n",
    "#\n",
    "#  example: shcd.search_airbus(ScopeType, ScopeBundle, Bounds, Time_From, Time_To, planetApiKey=<your_planey_api_key>)\n",
    "\n",
    "(data, query) = shcd.search_planet(SkySatType.SkySatCollect, SkySatBundle.PANCHROMATIC, bounds, time_from, time_to, planetApiKey=<your_planey_api_key>)\n",
    "\n",
    "# Getting ids\n",
    "item_ids = [feature[\"id\"] for feature in data.features]\n",
    "\n"
   ]
  },
  {
   "cell_type": "markdown",
   "id": "f8e71113",
   "metadata": {},
   "source": [
    "### WorldView"
   ]
  },
  {
   "cell_type": "code",
   "execution_count": null,
   "id": "1c6c0b72",
   "metadata": {},
   "outputs": [],
   "source": [
    "from CommercialDataBase import WorldViewKernel, WorldViewSensor\n",
    "\n",
    "# Option 4: WorldView MAXAR\n",
    "# Optional parameters:\n",
    "#    - maxCloudCoverage (Values: 0-100 | 100 as default)\n",
    "#    - minOffNadir (Values: 0-45 | 0 as default)\n",
    "#    - maxOffNadir (Values: 0-45 | 45 as default)\n",
    "#    - minSunElevation (Values: 0-90 | o as default)\n",
    "#    - maxSunElevation (Values: 0-90 | 90 as default)\n",
    "#    - sensor (Values: WorldViewSensor | Any as default)\n",
    "#\n",
    "#  example: shcd.search_airbus(WorldViewKernel, ScopeBundle, Bounds, Time_From, Time_To, *Optional parameters*)\n",
    "#\n",
    "\n",
    "(data, query) = shcd.search_worldview(WorldViewKernel.MTF, bounds, time_from, time_to, sensor=WorldViewSensor.WV01.value)\n",
    "\n",
    "# Getting ids\n",
    "item_ids = [feature[\"id\"] for feature in data.features]\n",
    "\n"
   ]
  },
  {
   "cell_type": "markdown",
   "id": "fa6edc4c",
   "metadata": {},
   "source": [
    "## Thumbnail"
   ]
  },
  {
   "cell_type": "code",
   "execution_count": null,
   "id": "7dd52218",
   "metadata": {},
   "outputs": [],
   "source": [
    "\n",
    "item_id = item_ids[0]\n",
    "thumbnail = shcd.thumbnail(ThumbnailType.SPOT, item_id)\n",
    "\n",
    "import io\n",
    "from PIL import Image\n",
    "\n",
    "image_bytes = io.BytesIO(thumbnail.content)\n",
    "Image.open(image_bytes)"
   ]
  },
  {
   "cell_type": "markdown",
   "id": "a92a58c3",
   "metadata": {},
   "source": [
    "# Data Order"
   ]
  },
  {
   "cell_type": "markdown",
   "id": "d9642e06",
   "metadata": {},
   "source": [
    "### Query order: Airbus, Planet SkySat and Scope"
   ]
  },
  {
   "cell_type": "code",
   "execution_count": 4,
   "id": "1387f1df",
   "metadata": {},
   "outputs": [],
   "source": [
    "response = shcd.order(\"New query order\", \"<your-collection-id>\", query)\n"
   ]
  },
  {
   "cell_type": "markdown",
   "id": "0a219473",
   "metadata": {},
   "source": [
    "### Normal order: Airbus, Planet SkySat and Scope"
   ]
  },
  {
   "cell_type": "code",
   "execution_count": 4,
   "id": "760e7386",
   "metadata": {},
   "outputs": [],
   "source": [
    "response = shcd.order(\"New normal order\", \"<your-collection-id>\", query, item_ids=item_ids)\n"
   ]
  },
  {
   "cell_type": "markdown",
   "id": "4550acc6",
   "metadata": {},
   "source": [
    "### Getting orders"
   ]
  },
  {
   "cell_type": "code",
   "execution_count": null,
   "id": "0c2353ae",
   "metadata": {},
   "outputs": [],
   "source": [
    "# Optional: Get single order by adding order_id as parameter\n",
    "# example: shcd.get_orders(\"asdf12-12bfa...\")\n",
    "\n",
    "orders = shcd.get_orders()\n",
    "order_ids = [o[\"id\"] for o in orders[\"data\"]]\n",
    "order_id = order_ids[0]"
   ]
  },
  {
   "cell_type": "markdown",
   "id": "e3aa4398",
   "metadata": {},
   "source": [
    "### Delete order"
   ]
  },
  {
   "cell_type": "code",
   "execution_count": null,
   "id": "70c7712c",
   "metadata": {},
   "outputs": [],
   "source": [
    "shcd.delete_order(order_id)"
   ]
  },
  {
   "cell_type": "markdown",
   "id": "91feb52f",
   "metadata": {},
   "source": [
    "### Confirm order"
   ]
  },
  {
   "cell_type": "code",
   "execution_count": null,
   "id": "1cd1b2e3",
   "metadata": {},
   "outputs": [],
   "source": [
    "shcd.confirm_order(order_id)"
   ]
  }
 ],
 "metadata": {
  "kernelspec": {
   "display_name": "Python 3 (ipykernel)",
   "language": "python",
   "name": "python3"
  },
  "language_info": {
   "codemirror_mode": {
    "name": "ipython",
    "version": 3
   },
   "file_extension": ".py",
   "mimetype": "text/x-python",
   "name": "python",
   "nbconvert_exporter": "python",
   "pygments_lexer": "ipython3",
   "version": "3.9.13"
  }
 },
 "nbformat": 4,
 "nbformat_minor": 5
}
