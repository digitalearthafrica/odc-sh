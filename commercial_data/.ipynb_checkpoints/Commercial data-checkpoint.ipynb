{
 "cells": [
  {
   "cell_type": "code",
   "execution_count": 15,
   "id": "b5a550d8",
   "metadata": {},
   "outputs": [],
   "source": [
    "#!pip install sentinelhub"
   ]
  },
  {
   "cell_type": "markdown",
   "id": "5362160a",
   "metadata": {},
   "source": [
    "# Commercial data"
   ]
  },
  {
   "cell_type": "markdown",
   "id": "aa55df62",
   "metadata": {},
   "source": [
    "For use of commercial data you have to first provide your sentinel-hub account client id and client secret."
   ]
  },
  {
   "cell_type": "code",
   "execution_count": 9,
   "id": "1f03898b",
   "metadata": {},
   "outputs": [],
   "source": [
    "from sentinelhub import SHConfig\n",
    "from oauthlib.oauth2 import BackendApplicationClient\n",
    "from requests_oauthlib import OAuth2Session\n",
    "from SentinelHubCommercialData import SentinelHubCommercialData\n",
    "\n",
    "config = SHConfig()\n",
    "config.sh_client_id = '792571cd-7ee1-456d-bdc7-7334e6b610f0'\n",
    "config.sh_client_secret = ')Kw:<ZC1975EsLNx6R-c65[[-+X3C]/Yp8-<#!p5'\n",
    "config.sh_base_url = \"https://services.sentinel-hub.com\"\n",
    "\n",
    "shcd = SentinelHubCommercialData(config)"
   ]
  },
  {
   "cell_type": "markdown",
   "id": "8c8ebab3",
   "metadata": {},
   "source": [
    "## Getting quotas"
   ]
  },
  {
   "cell_type": "code",
   "execution_count": 10,
   "id": "0813e6d0",
   "metadata": {
    "scrolled": true
   },
   "outputs": [
    {
     "name": "stdout",
     "output_type": "stream",
     "text": [
      "AIRBUS_SPOT\n",
      "Quota: 1000.0\n",
      "Used: 14.5\n",
      "----------\n",
      "AIRBUS_PLEIADES\n",
      "Quota: 100.0\n",
      "Used: 7.0\n",
      "----------\n",
      "\n"
     ]
    }
   ],
   "source": [
    "# Optional 1: To get single quota add id as parameter\n",
    "#\n",
    "#     shcd.quotas(\"asd124-12ddas...\")\n",
    "#\n",
    "# Optional 2: Get raw response\n",
    "#\n",
    "#     shcd.quotas(raw=True)\n",
    "#\n",
    "\n",
    "q = shcd.quotas()\n",
    "print(q)\n",
    "\n"
   ]
  },
  {
   "cell_type": "markdown",
   "id": "d54b6174",
   "metadata": {},
   "source": [
    "# Simple search"
   ]
  },
  {
   "cell_type": "markdown",
   "id": "69b71d5f",
   "metadata": {},
   "source": [
    "Setting date and time"
   ]
  },
  {
   "cell_type": "code",
   "execution_count": 11,
   "id": "5766cfcb",
   "metadata": {},
   "outputs": [],
   "source": [
    "time_from = \"2017-05-25T00:00:00Z\"\n",
    "time_to = \"2017-10-25T23:59:59Z\""
   ]
  },
  {
   "cell_type": "markdown",
   "id": "64bc549e",
   "metadata": {},
   "source": [
    "Setting search area"
   ]
  },
  {
   "cell_type": "code",
   "execution_count": 12,
   "id": "cac55510",
   "metadata": {},
   "outputs": [],
   "source": [
    "# Option 1: Set bounds as bbox\n",
    "bounds = [\n",
    "  12.742243,\n",
    "  42.05043,\n",
    "  12.746302,\n",
    "  42.053218\n",
    "]\n",
    "\n",
    "# Option 2: Set bounds as Polygon\n",
    "bounds = {\n",
    "  \"type\": \"Polygon\",\n",
    "  \"coordinates\": [\n",
    "   [\n",
    "    [\n",
    "     12.500395,\n",
    "     41.931337\n",
    "    ],\n",
    "    [\n",
    "     12.507856,\n",
    "     41.931018\n",
    "    ],\n",
    "    [\n",
    "     12.507513,\n",
    "     41.927825\n",
    "    ],\n",
    "    [\n",
    "     12.50048,\n",
    "     41.928719\n",
    "    ],\n",
    "    [\n",
    "     12.500395,\n",
    "     41.931337\n",
    "    ]\n",
    "   ]\n",
    "  ]\n",
    " }"
   ]
  },
  {
   "cell_type": "markdown",
   "id": "62297a90",
   "metadata": {},
   "source": [
    "### AIRBUS Pleiades & SPOT"
   ]
  },
  {
   "cell_type": "code",
   "execution_count": 14,
   "id": "d24df2d7",
   "metadata": {},
   "outputs": [
    {
     "ename": "DownloadFailedException",
     "evalue": "Failed to download from:\nhttps://services.sentinel-hub.com/api/v1/dataimport/search\nwith HTTPError:\n400 Client Error: Bad Request for url: https://services.sentinel-hub.com/api/v1/dataimport/search\nServer response: \"Cannot deserialize instance of `[D` out of START_OBJECT token\n at [Source: (org.glassfish.jersey.message.internal.ReaderInterceptorExecutor$UnCloseableInputStream); line: 1, column: 43] (through reference chain: com.sinergise.sentinel.dataimport.airbus.AirbusQuery[\"bounds\"]->com.sinergise.sentinel.api.process.request.Bounds[\"bbox\"])\"",
     "output_type": "error",
     "traceback": [
      "\u001b[0;31m---------------------------------------------------------------------------\u001b[0m",
      "\u001b[0;31mHTTPError\u001b[0m                                 Traceback (most recent call last)",
      "File \u001b[0;32m~/miniconda/lib/python3.9/site-packages/sentinelhub/download/handlers.py:41\u001b[0m, in \u001b[0;36mfail_user_errors.<locals>.new_download_func\u001b[0;34m(self, request)\u001b[0m\n\u001b[1;32m     40\u001b[0m \u001b[38;5;28;01mtry\u001b[39;00m:\n\u001b[0;32m---> 41\u001b[0m     \u001b[38;5;28;01mreturn\u001b[39;00m \u001b[43mdownload_func\u001b[49m\u001b[43m(\u001b[49m\u001b[38;5;28;43mself\u001b[39;49m\u001b[43m,\u001b[49m\u001b[43m \u001b[49m\u001b[43mrequest\u001b[49m\u001b[43m)\u001b[49m\n\u001b[1;32m     42\u001b[0m \u001b[38;5;28;01mexcept\u001b[39;00m requests\u001b[38;5;241m.\u001b[39mHTTPError \u001b[38;5;28;01mas\u001b[39;00m exception:\n",
      "File \u001b[0;32m~/miniconda/lib/python3.9/site-packages/sentinelhub/download/sentinelhub_client.py:90\u001b[0m, in \u001b[0;36mSentinelHubDownloadClient._execute_download\u001b[0;34m(self, request)\u001b[0m\n\u001b[1;32m     88\u001b[0m     \u001b[38;5;28;01mcontinue\u001b[39;00m\n\u001b[0;32m---> 90\u001b[0m \u001b[43mresponse\u001b[49m\u001b[38;5;241;43m.\u001b[39;49m\u001b[43mraise_for_status\u001b[49m\u001b[43m(\u001b[49m\u001b[43m)\u001b[49m\n\u001b[1;32m     92\u001b[0m LOGGER\u001b[38;5;241m.\u001b[39mdebug(\u001b[38;5;124m\"\u001b[39m\u001b[38;5;124mSuccessful \u001b[39m\u001b[38;5;132;01m%s\u001b[39;00m\u001b[38;5;124m request to \u001b[39m\u001b[38;5;132;01m%s\u001b[39;00m\u001b[38;5;124m\"\u001b[39m, request\u001b[38;5;241m.\u001b[39mrequest_type\u001b[38;5;241m.\u001b[39mvalue, request\u001b[38;5;241m.\u001b[39murl)\n",
      "File \u001b[0;32m~/miniconda/lib/python3.9/site-packages/requests/models.py:1021\u001b[0m, in \u001b[0;36mResponse.raise_for_status\u001b[0;34m(self)\u001b[0m\n\u001b[1;32m   1020\u001b[0m \u001b[38;5;28;01mif\u001b[39;00m http_error_msg:\n\u001b[0;32m-> 1021\u001b[0m     \u001b[38;5;28;01mraise\u001b[39;00m HTTPError(http_error_msg, response\u001b[38;5;241m=\u001b[39m\u001b[38;5;28mself\u001b[39m)\n",
      "\u001b[0;31mHTTPError\u001b[0m: 400 Client Error: Bad Request for url: https://services.sentinel-hub.com/api/v1/dataimport/search",
      "\nThe above exception was the direct cause of the following exception:\n",
      "\u001b[0;31mDownloadFailedException\u001b[0m                   Traceback (most recent call last)",
      "Cell \u001b[0;32mIn [14], line 12\u001b[0m\n\u001b[1;32m      1\u001b[0m \u001b[38;5;28;01mfrom\u001b[39;00m \u001b[38;5;21;01mCommercialDataBase\u001b[39;00m \u001b[38;5;28;01mimport\u001b[39;00m Providers, AirbusConstellation, ThumbnailType\n\u001b[1;32m      3\u001b[0m \u001b[38;5;66;03m# Option 1: AIRBUS Pleiades & SPOT\u001b[39;00m\n\u001b[1;32m      4\u001b[0m \u001b[38;5;66;03m# Optional parameters: \u001b[39;00m\n\u001b[1;32m      5\u001b[0m \u001b[38;5;66;03m#    - maxCloudCoverage (Values: 0-100 | 100 as default)\u001b[39;00m\n\u001b[0;32m   (...)\u001b[0m\n\u001b[1;32m      9\u001b[0m \u001b[38;5;66;03m#\u001b[39;00m\n\u001b[1;32m     10\u001b[0m \u001b[38;5;66;03m#  example: shcd.search_airbus(AirbusConstellation, Bounds, Time_From, Time_To, *Optional parameters*)\u001b[39;00m\n\u001b[0;32m---> 12\u001b[0m (data, query) \u001b[38;5;241m=\u001b[39m \u001b[43mshcd\u001b[49m\u001b[38;5;241;43m.\u001b[39;49m\u001b[43msearch_airbus\u001b[49m\u001b[43m(\u001b[49m\u001b[43mAirbusConstellation\u001b[49m\u001b[38;5;241;43m.\u001b[39;49m\u001b[43mSPOT\u001b[49m\u001b[43m,\u001b[49m\u001b[43m \u001b[49m\u001b[43mbounds\u001b[49m\u001b[43m,\u001b[49m\u001b[43m \u001b[49m\u001b[43mtime_from\u001b[49m\u001b[43m,\u001b[49m\u001b[43m \u001b[49m\u001b[43mtime_to\u001b[49m\u001b[43m,\u001b[49m\u001b[43m \u001b[49m\u001b[43mmaxCloudCoverage\u001b[49m\u001b[38;5;241;43m=\u001b[39;49m\u001b[38;5;241;43m90\u001b[39;49m\u001b[43m,\u001b[49m\u001b[43m \u001b[49m\u001b[43mmaxSnowCoverage\u001b[49m\u001b[38;5;241;43m=\u001b[39;49m\u001b[38;5;241;43m50\u001b[39;49m\u001b[43m)\u001b[49m\n\u001b[1;32m     14\u001b[0m \u001b[38;5;66;03m# Getting ids\u001b[39;00m\n\u001b[1;32m     15\u001b[0m item_ids \u001b[38;5;241m=\u001b[39m [feature[\u001b[38;5;124m\"\u001b[39m\u001b[38;5;124mproperties\u001b[39m\u001b[38;5;124m\"\u001b[39m][\u001b[38;5;124m\"\u001b[39m\u001b[38;5;124mid\u001b[39m\u001b[38;5;124m\"\u001b[39m] \u001b[38;5;28;01mfor\u001b[39;00m feature \u001b[38;5;129;01min\u001b[39;00m data\u001b[38;5;241m.\u001b[39mfeatures]\n",
      "File \u001b[0;32m~/apps/odc-sh/commercial_data/SentinelHubCommercialData.py:57\u001b[0m, in \u001b[0;36mSentinelHubCommercialData.search_airbus\u001b[0;34m(self, typ, bounds, time_from, time_to, **kwargs)\u001b[0m\n\u001b[1;32m     54\u001b[0m \u001b[38;5;28;01mfor\u001b[39;00m name, val \u001b[38;5;129;01min\u001b[39;00m kwargs\u001b[38;5;241m.\u001b[39mitems():\n\u001b[1;32m     55\u001b[0m     payload[\u001b[38;5;124m\"\u001b[39m\u001b[38;5;124mdata\u001b[39m\u001b[38;5;124m\"\u001b[39m][\u001b[38;5;241m0\u001b[39m][\u001b[38;5;124m\"\u001b[39m\u001b[38;5;124mdataFilter\u001b[39m\u001b[38;5;124m\"\u001b[39m][name] \u001b[38;5;241m=\u001b[39m val\n\u001b[0;32m---> 57\u001b[0m \u001b[38;5;28;01mreturn\u001b[39;00m \u001b[38;5;28;43mself\u001b[39;49m\u001b[38;5;241;43m.\u001b[39;49m\u001b[43msearch\u001b[49m\u001b[43m(\u001b[49m\u001b[43mpayload\u001b[49m\u001b[43m)\u001b[49m, payload\n",
      "File \u001b[0;32m~/apps/odc-sh/commercial_data/SentinelHubCommercialData.py:24\u001b[0m, in \u001b[0;36mBaseCommercialClient.search\u001b[0;34m(self, payload)\u001b[0m\n\u001b[1;32m     23\u001b[0m \u001b[38;5;28;01mdef\u001b[39;00m \u001b[38;5;21msearch\u001b[39m(\u001b[38;5;28mself\u001b[39m, payload) \u001b[38;5;241m-\u001b[39m\u001b[38;5;241m>\u001b[39m CommercialSearchResponse:\n\u001b[0;32m---> 24\u001b[0m     response_info: CommercialSearchResponse \u001b[38;5;241m=\u001b[39m CommercialSearchResponse\u001b[38;5;241m.\u001b[39mfrom_dict(\u001b[38;5;28;43mself\u001b[39;49m\u001b[38;5;241;43m.\u001b[39;49m\u001b[43m_call_job\u001b[49m\u001b[43m(\u001b[49m\u001b[38;5;124;43m\"\u001b[39;49m\u001b[38;5;124;43msearch\u001b[39;49m\u001b[38;5;124;43m\"\u001b[39;49m\u001b[43m,\u001b[49m\u001b[43m \u001b[49m\u001b[43mpayload\u001b[49m\u001b[43m)\u001b[49m)\n\u001b[1;32m     25\u001b[0m     \u001b[38;5;28;01mreturn\u001b[39;00m response_info\n",
      "File \u001b[0;32m~/apps/odc-sh/commercial_data/SentinelHubCommercialData.py:16\u001b[0m, in \u001b[0;36mBaseCommercialClient._call_job\u001b[0;34m(self, endpoint_name, payload)\u001b[0m\n\u001b[1;32m     14\u001b[0m \u001b[38;5;124;03m\"\"\"Makes a POST request to the service\"\"\"\u001b[39;00m\n\u001b[1;32m     15\u001b[0m job_url \u001b[38;5;241m=\u001b[39m \u001b[38;5;124mf\u001b[39m\u001b[38;5;124m\"\u001b[39m\u001b[38;5;132;01m{\u001b[39;00m\u001b[38;5;28mself\u001b[39m\u001b[38;5;241m.\u001b[39mservice_url\u001b[38;5;132;01m}\u001b[39;00m\u001b[38;5;124m/\u001b[39m\u001b[38;5;132;01m{\u001b[39;00mendpoint_name\u001b[38;5;132;01m}\u001b[39;00m\u001b[38;5;124m\"\u001b[39m\n\u001b[0;32m---> 16\u001b[0m \u001b[38;5;28;01mreturn\u001b[39;00m \u001b[38;5;28;43mself\u001b[39;49m\u001b[38;5;241;43m.\u001b[39;49m\u001b[43mclient\u001b[49m\u001b[38;5;241;43m.\u001b[39;49m\u001b[43mget_json_dict\u001b[49m\u001b[43m(\u001b[49m\u001b[43murl\u001b[49m\u001b[38;5;241;43m=\u001b[39;49m\u001b[43mjob_url\u001b[49m\u001b[43m,\u001b[49m\u001b[43m \u001b[49m\u001b[43mpost_values\u001b[49m\u001b[38;5;241;43m=\u001b[39;49m\u001b[43mpayload\u001b[49m\u001b[43m,\u001b[49m\u001b[43m \u001b[49m\u001b[43mrequest_type\u001b[49m\u001b[38;5;241;43m=\u001b[39;49m\u001b[43mRequestType\u001b[49m\u001b[38;5;241;43m.\u001b[39;49m\u001b[43mPOST\u001b[49m\u001b[43m,\u001b[49m\n\u001b[1;32m     17\u001b[0m \u001b[43m                                 \u001b[49m\u001b[43muse_session\u001b[49m\u001b[38;5;241;43m=\u001b[39;49m\u001b[38;5;28;43;01mTrue\u001b[39;49;00m\u001b[43m)\u001b[49m\n",
      "File \u001b[0;32m~/miniconda/lib/python3.9/site-packages/sentinelhub/download/client.py:265\u001b[0m, in \u001b[0;36mDownloadClient.get_json_dict\u001b[0;34m(self, url, extract_key, *args, **kwargs)\u001b[0m\n\u001b[1;32m    257\u001b[0m \u001b[38;5;28;01mdef\u001b[39;00m \u001b[38;5;21mget_json_dict\u001b[39m(\u001b[38;5;28mself\u001b[39m, url: \u001b[38;5;28mstr\u001b[39m, \u001b[38;5;241m*\u001b[39margs: Any, extract_key: Optional[\u001b[38;5;28mstr\u001b[39m] \u001b[38;5;241m=\u001b[39m \u001b[38;5;28;01mNone\u001b[39;00m, \u001b[38;5;241m*\u001b[39m\u001b[38;5;241m*\u001b[39mkwargs: Any) \u001b[38;5;241m-\u001b[39m\u001b[38;5;241m>\u001b[39m JsonDict:\n\u001b[1;32m    258\u001b[0m     \u001b[38;5;124;03m\"\"\"Download request as JSON data type, failing if the result is not a dictionary\u001b[39;00m\n\u001b[1;32m    259\u001b[0m \n\u001b[1;32m    260\u001b[0m \u001b[38;5;124;03m    For other parameters see `get_json` method.\u001b[39;00m\n\u001b[0;32m   (...)\u001b[0m\n\u001b[1;32m    263\u001b[0m \u001b[38;5;124;03m    :param extract_key: If provided, the field is automatically extracted, checked, and returned\u001b[39;00m\n\u001b[1;32m    264\u001b[0m \u001b[38;5;124;03m    \"\"\"\u001b[39;00m\n\u001b[0;32m--> 265\u001b[0m     response \u001b[38;5;241m=\u001b[39m \u001b[38;5;28;43mself\u001b[39;49m\u001b[38;5;241;43m.\u001b[39;49m\u001b[43mget_json\u001b[49m\u001b[43m(\u001b[49m\u001b[43murl\u001b[49m\u001b[43m,\u001b[49m\u001b[43m \u001b[49m\u001b[38;5;241;43m*\u001b[39;49m\u001b[43margs\u001b[49m\u001b[43m,\u001b[49m\u001b[43m \u001b[49m\u001b[38;5;241;43m*\u001b[39;49m\u001b[38;5;241;43m*\u001b[39;49m\u001b[43mkwargs\u001b[49m\u001b[43m)\u001b[49m\n\u001b[1;32m    267\u001b[0m     \u001b[38;5;28;01mif\u001b[39;00m \u001b[38;5;129;01mnot\u001b[39;00m \u001b[38;5;28misinstance\u001b[39m(response, \u001b[38;5;28mdict\u001b[39m):\n\u001b[1;32m    268\u001b[0m         \u001b[38;5;28;01mraise\u001b[39;00m MissingDataInRequestException(\n\u001b[1;32m    269\u001b[0m             \u001b[38;5;124mf\u001b[39m\u001b[38;5;124m\"\u001b[39m\u001b[38;5;124mResponse from \u001b[39m\u001b[38;5;132;01m{\u001b[39;00murl\u001b[38;5;132;01m}\u001b[39;00m\u001b[38;5;124m was expected to be a dictionary, but got \u001b[39m\u001b[38;5;132;01m{\u001b[39;00m\u001b[38;5;28mtype\u001b[39m(response)\u001b[38;5;132;01m}\u001b[39;00m\u001b[38;5;124m.\u001b[39m\u001b[38;5;124m\"\u001b[39m\n\u001b[1;32m    270\u001b[0m         )\n",
      "File \u001b[0;32m~/miniconda/lib/python3.9/site-packages/sentinelhub/download/client.py:255\u001b[0m, in \u001b[0;36mDownloadClient.get_json\u001b[0;34m(self, url, post_values, headers, request_type, **kwargs)\u001b[0m\n\u001b[1;32m    244\u001b[0m     json_headers \u001b[38;5;241m=\u001b[39m {\u001b[38;5;124m\"\u001b[39m\u001b[38;5;124mContent-Type\u001b[39m\u001b[38;5;124m\"\u001b[39m: MimeType\u001b[38;5;241m.\u001b[39mJSON\u001b[38;5;241m.\u001b[39mget_string(), \u001b[38;5;241m*\u001b[39m\u001b[38;5;241m*\u001b[39mjson_headers}\n\u001b[1;32m    246\u001b[0m request \u001b[38;5;241m=\u001b[39m DownloadRequest(\n\u001b[1;32m    247\u001b[0m     url\u001b[38;5;241m=\u001b[39murl,\n\u001b[1;32m    248\u001b[0m     headers\u001b[38;5;241m=\u001b[39mjson_headers,\n\u001b[0;32m   (...)\u001b[0m\n\u001b[1;32m    252\u001b[0m     \u001b[38;5;241m*\u001b[39m\u001b[38;5;241m*\u001b[39mkwargs,\n\u001b[1;32m    253\u001b[0m )\n\u001b[0;32m--> 255\u001b[0m \u001b[38;5;28;01mreturn\u001b[39;00m \u001b[38;5;28;43mself\u001b[39;49m\u001b[38;5;241;43m.\u001b[39;49m\u001b[43m_single_download_decoded\u001b[49m\u001b[43m(\u001b[49m\u001b[43mrequest\u001b[49m\u001b[43m)\u001b[49m\n",
      "File \u001b[0;32m~/miniconda/lib/python3.9/site-packages/sentinelhub/download/client.py:133\u001b[0m, in \u001b[0;36mDownloadClient._single_download_decoded\u001b[0;34m(self, request)\u001b[0m\n\u001b[1;32m    131\u001b[0m \u001b[38;5;28;01mdef\u001b[39;00m \u001b[38;5;21m_single_download_decoded\u001b[39m(\u001b[38;5;28mself\u001b[39m, request: DownloadRequest) \u001b[38;5;241m-\u001b[39m\u001b[38;5;241m>\u001b[39m Any:\n\u001b[1;32m    132\u001b[0m     \u001b[38;5;124;03m\"\"\"Downloads a response and decodes it into data. By decoding a single response\"\"\"\u001b[39;00m\n\u001b[0;32m--> 133\u001b[0m     response \u001b[38;5;241m=\u001b[39m \u001b[38;5;28;43mself\u001b[39;49m\u001b[38;5;241;43m.\u001b[39;49m\u001b[43m_single_download\u001b[49m\u001b[43m(\u001b[49m\u001b[43mrequest\u001b[49m\u001b[43m)\u001b[49m\n\u001b[1;32m    134\u001b[0m     \u001b[38;5;28;01mreturn\u001b[39;00m \u001b[38;5;28;01mNone\u001b[39;00m \u001b[38;5;28;01mif\u001b[39;00m response \u001b[38;5;129;01mis\u001b[39;00m \u001b[38;5;28;01mNone\u001b[39;00m \u001b[38;5;28;01melse\u001b[39;00m response\u001b[38;5;241m.\u001b[39mdecode()\n",
      "File \u001b[0;32m~/miniconda/lib/python3.9/site-packages/sentinelhub/download/client.py:146\u001b[0m, in \u001b[0;36mDownloadClient._single_download\u001b[0;34m(self, request)\u001b[0m\n\u001b[1;32m    144\u001b[0m no_local_data \u001b[38;5;241m=\u001b[39m \u001b[38;5;28mself\u001b[39m\u001b[38;5;241m.\u001b[39mredownload \u001b[38;5;129;01mor\u001b[39;00m response_path \u001b[38;5;129;01mis\u001b[39;00m \u001b[38;5;28;01mNone\u001b[39;00m \u001b[38;5;129;01mor\u001b[39;00m \u001b[38;5;129;01mnot\u001b[39;00m os\u001b[38;5;241m.\u001b[39mpath\u001b[38;5;241m.\u001b[39mexists(response_path)\n\u001b[1;32m    145\u001b[0m \u001b[38;5;28;01mif\u001b[39;00m no_local_data:\n\u001b[0;32m--> 146\u001b[0m     response \u001b[38;5;241m=\u001b[39m \u001b[38;5;28;43mself\u001b[39;49m\u001b[38;5;241;43m.\u001b[39;49m\u001b[43m_execute_download\u001b[49m\u001b[43m(\u001b[49m\u001b[43mrequest\u001b[49m\u001b[43m)\u001b[49m\n\u001b[1;32m    147\u001b[0m \u001b[38;5;28;01melse\u001b[39;00m:\n\u001b[1;32m    148\u001b[0m     \u001b[38;5;28;01mif\u001b[39;00m \u001b[38;5;129;01mnot\u001b[39;00m request\u001b[38;5;241m.\u001b[39mreturn_data \u001b[38;5;129;01mor\u001b[39;00m response_path \u001b[38;5;129;01mis\u001b[39;00m \u001b[38;5;28;01mNone\u001b[39;00m:\n",
      "File \u001b[0;32m~/miniconda/lib/python3.9/site-packages/sentinelhub/download/handlers.py:67\u001b[0m, in \u001b[0;36mretry_temporary_errors.<locals>.new_download_func\u001b[0;34m(self, request)\u001b[0m\n\u001b[1;32m     65\u001b[0m \u001b[38;5;28;01mfor\u001b[39;00m attempt_num \u001b[38;5;129;01min\u001b[39;00m \u001b[38;5;28mrange\u001b[39m(download_attempts):\n\u001b[1;32m     66\u001b[0m     \u001b[38;5;28;01mtry\u001b[39;00m:\n\u001b[0;32m---> 67\u001b[0m         \u001b[38;5;28;01mreturn\u001b[39;00m \u001b[43mdownload_func\u001b[49m\u001b[43m(\u001b[49m\u001b[38;5;28;43mself\u001b[39;49m\u001b[43m,\u001b[49m\u001b[43m \u001b[49m\u001b[43mrequest\u001b[49m\u001b[43m)\u001b[49m\n\u001b[1;32m     68\u001b[0m     \u001b[38;5;28;01mexcept\u001b[39;00m requests\u001b[38;5;241m.\u001b[39mRequestException \u001b[38;5;28;01mas\u001b[39;00m exception:\n\u001b[1;32m     69\u001b[0m         \u001b[38;5;28;01mif\u001b[39;00m \u001b[38;5;129;01mnot\u001b[39;00m (\n\u001b[1;32m     70\u001b[0m             _is_temporary_problem(exception)\n\u001b[1;32m     71\u001b[0m             \u001b[38;5;129;01mor\u001b[39;00m (\n\u001b[0;32m   (...)\u001b[0m\n\u001b[1;32m     74\u001b[0m             )\n\u001b[1;32m     75\u001b[0m         ):\n",
      "File \u001b[0;32m~/miniconda/lib/python3.9/site-packages/sentinelhub/download/handlers.py:47\u001b[0m, in \u001b[0;36mfail_user_errors.<locals>.new_download_func\u001b[0;34m(self, request)\u001b[0m\n\u001b[1;32m     42\u001b[0m \u001b[38;5;28;01mexcept\u001b[39;00m requests\u001b[38;5;241m.\u001b[39mHTTPError \u001b[38;5;28;01mas\u001b[39;00m exception:\n\u001b[1;32m     43\u001b[0m     \u001b[38;5;28;01mif\u001b[39;00m (\n\u001b[1;32m     44\u001b[0m         exception\u001b[38;5;241m.\u001b[39mresponse\u001b[38;5;241m.\u001b[39mstatus_code \u001b[38;5;241m<\u001b[39m requests\u001b[38;5;241m.\u001b[39mstatus_codes\u001b[38;5;241m.\u001b[39mcodes\u001b[38;5;241m.\u001b[39mINTERNAL_SERVER_ERROR\n\u001b[1;32m     45\u001b[0m         \u001b[38;5;129;01mand\u001b[39;00m exception\u001b[38;5;241m.\u001b[39mresponse\u001b[38;5;241m.\u001b[39mstatus_code \u001b[38;5;241m!=\u001b[39m requests\u001b[38;5;241m.\u001b[39mstatus_codes\u001b[38;5;241m.\u001b[39mcodes\u001b[38;5;241m.\u001b[39mTOO_MANY_REQUESTS\n\u001b[1;32m     46\u001b[0m     ):\n\u001b[0;32m---> 47\u001b[0m         \u001b[38;5;28;01mraise\u001b[39;00m DownloadFailedException(\n\u001b[1;32m     48\u001b[0m             _create_download_failed_message(exception, request\u001b[38;5;241m.\u001b[39murl), request_exception\u001b[38;5;241m=\u001b[39mexception\n\u001b[1;32m     49\u001b[0m         ) \u001b[38;5;28;01mfrom\u001b[39;00m \u001b[38;5;21;01mexception\u001b[39;00m\n\u001b[1;32m     50\u001b[0m     \u001b[38;5;28;01mraise\u001b[39;00m exception \u001b[38;5;28;01mfrom\u001b[39;00m \u001b[38;5;21;01mexception\u001b[39;00m\n",
      "\u001b[0;31mDownloadFailedException\u001b[0m: Failed to download from:\nhttps://services.sentinel-hub.com/api/v1/dataimport/search\nwith HTTPError:\n400 Client Error: Bad Request for url: https://services.sentinel-hub.com/api/v1/dataimport/search\nServer response: \"Cannot deserialize instance of `[D` out of START_OBJECT token\n at [Source: (org.glassfish.jersey.message.internal.ReaderInterceptorExecutor$UnCloseableInputStream); line: 1, column: 43] (through reference chain: com.sinergise.sentinel.dataimport.airbus.AirbusQuery[\"bounds\"]->com.sinergise.sentinel.api.process.request.Bounds[\"bbox\"])\""
     ]
    }
   ],
   "source": [
    "from CommercialDataBase import Providers, AirbusConstellation, ThumbnailType\n",
    "\n",
    "# Option 1: AIRBUS Pleiades & SPOT\n",
    "# Optional parameters: \n",
    "#    - maxCloudCoverage (Values: 0-100 | 100 as default)\n",
    "#    - maxSnowCoverage (Vaules: 0-90 | 90 as default)\n",
    "#    - maxIncidenceAngle (Values: 0-90 | 90 as default)\n",
    "#    - processingLevel (Values: \"Sensor\",\"Album\" | \"Sensor\",\"Album\" as default)\n",
    "#\n",
    "#  example: shcd.search_airbus(AirbusConstellation, Bounds, Time_From, Time_To, *Optional parameters*)\n",
    "\n",
    "(data, query) = shcd.search_airbus(AirbusConstellation.SPOT, bounds, time_from, time_to, maxCloudCoverage=90, maxSnowCoverage=50)\n",
    "\n",
    "# Getting ids\n",
    "item_ids = [feature[\"properties\"][\"id\"] for feature in data.features]\n"
   ]
  },
  {
   "cell_type": "markdown",
   "id": "b8b2e784",
   "metadata": {},
   "source": [
    "### Planet SCOPE"
   ]
  },
  {
   "cell_type": "code",
   "execution_count": null,
   "id": "e4ea0547",
   "metadata": {},
   "outputs": [],
   "source": [
    "from CommercialDataBase import ScopeType, ScopeBundle\n",
    "\n",
    "# Option 2: Planet SCOPE\n",
    "# Optional parameters: \n",
    "#    - maxCloudCoverage (Values: 0-100 | 100 as default)\n",
    "#\n",
    "#  example: shcd.search_airbus(ScopeType, ScopeBundle, Bounds, Time_From, Time_To, *Optional parameters*)\n",
    "\n",
    "(data, query) = shcd.search_planet(ScopeType.PSScene, ScopeBundle.ANALYTIC_8B_UDM2, bounds, time_from, time_to, maxCloudCoverage=90)\n",
    "\n",
    "# Getting ids\n",
    "item_ids = [feature[\"id\"] for feature in data.features]\n"
   ]
  },
  {
   "cell_type": "markdown",
   "id": "ad114193",
   "metadata": {},
   "source": [
    "### Planet SkySat"
   ]
  },
  {
   "cell_type": "code",
   "execution_count": null,
   "id": "24e1124b",
   "metadata": {},
   "outputs": [],
   "source": [
    "from CommercialDataBase import SkySatType, SkySatBundle\n",
    "\n",
    "# Option 3: Planet SkySat\n",
    "#\n",
    "#  example: shcd.search_airbus(ScopeType, ScopeBundle, Bounds, Time_From, Time_To, planetApiKey=<your_planey_api_key>)\n",
    "\n",
    "(data, query) = shcd.search_planet(SkySatType.SkySatCollect, SkySatBundle.PANCHROMATIC, bounds, time_from, time_to, planetApiKey=<your_planey_api_key>)\n",
    "\n",
    "# Getting ids\n",
    "item_ids = [feature[\"id\"] for feature in data.features]\n",
    "\n"
   ]
  },
  {
   "cell_type": "markdown",
   "id": "82f13c72",
   "metadata": {},
   "source": [
    "### WorldView"
   ]
  },
  {
   "cell_type": "code",
   "execution_count": null,
   "id": "00a54759",
   "metadata": {},
   "outputs": [],
   "source": [
    "from CommercialDataBase import WorldViewKernel, WorldViewSensor\n",
    "\n",
    "# Option 4: WorldView MAXAR\n",
    "# Optional parameters:\n",
    "#    - maxCloudCoverage (Values: 0-100 | 100 as default)\n",
    "#    - minOffNadir (Values: 0-45 | 0 as default)\n",
    "#    - maxOffNadir (Values: 0-45 | 45 as default)\n",
    "#    - minSunElevation (Values: 0-90 | o as default)\n",
    "#    - maxSunElevation (Values: 0-90 | 90 as default)\n",
    "#    - sensor (Values: WorldViewSensor | Any as default)\n",
    "#\n",
    "#  example: shcd.search_airbus(WorldViewKernel, ScopeBundle, Bounds, Time_From, Time_To, *Optional parameters*)\n",
    "#\n",
    "\n",
    "(data, query) = shcd.search_worldview(WorldViewKernel.MTF, bounds, time_from, time_to, sensor=WorldViewSensor.WV01.value)\n",
    "\n",
    "# Getting ids\n",
    "item_ids = [feature[\"id\"] for feature in data.features]\n",
    "\n"
   ]
  },
  {
   "cell_type": "markdown",
   "id": "3c3204b7",
   "metadata": {},
   "source": [
    "## Thumbnail"
   ]
  },
  {
   "cell_type": "code",
   "execution_count": null,
   "id": "a6c257db",
   "metadata": {},
   "outputs": [],
   "source": [
    "\n",
    "item_id = item_ids[0]\n",
    "thumbnail = shcd.thumbnail(ThumbnailType.SPOT, item_id)\n",
    "\n",
    "import io\n",
    "from PIL import Image\n",
    "\n",
    "image_bytes = io.BytesIO(thumbnail.content)\n",
    "Image.open(image_bytes)"
   ]
  },
  {
   "cell_type": "markdown",
   "id": "c2dbfacd",
   "metadata": {},
   "source": [
    "# Data Order"
   ]
  },
  {
   "cell_type": "markdown",
   "id": "1441fd7e",
   "metadata": {},
   "source": [
    "### Query order: Airbus, Planet SkySat and Scope"
   ]
  },
  {
   "cell_type": "code",
   "execution_count": 4,
   "id": "46fe2e9f",
   "metadata": {},
   "outputs": [],
   "source": [
    "response = shcd.order(\"New query order\", \"<your-collection-id>\", query)\n"
   ]
  },
  {
   "cell_type": "markdown",
   "id": "2edc51ad",
   "metadata": {},
   "source": [
    "### Normal order: Airbus, Planet SkySat and Scope"
   ]
  },
  {
   "cell_type": "code",
   "execution_count": 4,
   "id": "4ec8013f",
   "metadata": {},
   "outputs": [],
   "source": [
    "response = shcd.order(\"New normal order\", \"<your-collection-id>\", query, item_ids=item_ids)\n"
   ]
  },
  {
   "cell_type": "markdown",
   "id": "1d2cf256",
   "metadata": {},
   "source": [
    "### Getting orders"
   ]
  },
  {
   "cell_type": "code",
   "execution_count": null,
   "id": "20c0ec6f",
   "metadata": {},
   "outputs": [],
   "source": [
    "# Optional: Get single order by adding order_id as parameter\n",
    "# example: shcd.get_orders(\"asdf12-12bfa...\")\n",
    "\n",
    "orders = shcd.get_orders()\n",
    "order_ids = [o[\"id\"] for o in orders[\"data\"]]\n",
    "order_id = order_ids[0]"
   ]
  },
  {
   "cell_type": "markdown",
   "id": "62d2565c",
   "metadata": {},
   "source": [
    "### Delete order"
   ]
  },
  {
   "cell_type": "code",
   "execution_count": null,
   "id": "521d4793",
   "metadata": {},
   "outputs": [],
   "source": [
    "shcd.delete_order(order_id)"
   ]
  },
  {
   "cell_type": "markdown",
   "id": "23eca9b0",
   "metadata": {},
   "source": [
    "### Confirm order"
   ]
  },
  {
   "cell_type": "code",
   "execution_count": null,
   "id": "7ddbfd91",
   "metadata": {},
   "outputs": [],
   "source": [
    "shcd.confirm_order(order_id)"
   ]
  }
 ],
 "metadata": {
  "kernelspec": {
   "display_name": "Python 3 (ipykernel)",
   "language": "python",
   "name": "python3"
  },
  "language_info": {
   "codemirror_mode": {
    "name": "ipython",
    "version": 3
   },
   "file_extension": ".py",
   "mimetype": "text/x-python",
   "name": "python",
   "nbconvert_exporter": "python",
   "pygments_lexer": "ipython3",
   "version": "3.9.13"
  }
 },
 "nbformat": 4,
 "nbformat_minor": 5
}
