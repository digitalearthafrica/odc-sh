{
 "cells": [
  {
   "cell_type": "code",
   "execution_count": null,
   "id": "9abdd003-6a4b-47c4-b3b5-185463831308",
   "metadata": {},
   "outputs": [],
   "source": [
    "#!pip install sentinelhub"
   ]
  },
  {
   "cell_type": "code",
   "execution_count": null,
   "id": "0f392325-5918-4d07-895e-828cd4b92895",
   "metadata": {},
   "outputs": [],
   "source": [
    "#!printenv |sort"
   ]
  },
  {
   "cell_type": "markdown",
   "id": "83d42e66-a795-4cbc-b914-7b5c7fd03039",
   "metadata": {},
   "source": [
    "This notebook show how to use the odc_sh engine in order to load the Sentinel data using SentinelHUB."
   ]
  },
  {
   "cell_type": "code",
   "execution_count": null,
   "id": "fcb7b46e-30fb-41c9-8805-4bdf51e22bc6",
   "metadata": {},
   "outputs": [],
   "source": [
    "import os \n",
    "import numpy as np\n",
    "import xarray as xr\n",
    "import matplotlib.pyplot as plt\n",
    "import datetime\n",
    "import cartopy.crs as ccrs\n",
    "from sentinelhub import DataCollection\n",
    "import pandas\n",
    "\n",
    "%matplotlib inline\n",
    "\n",
    "from odc_sh import engine"
   ]
  },
  {
   "cell_type": "code",
   "execution_count": null,
   "id": "fd32e785-7954-4bd6-9c22-073c47845b8c",
   "metadata": {},
   "outputs": [],
   "source": [
    "sh_client_id=\"\"\n",
    "sh_client_secret=\"\"\n",
    "\n",
    "if not sh_client_id:\n",
    "    sh_client_id = %env SH_CLIENT_ID\n",
    "\n",
    "if not sh_client_secret:\n",
    "    sh_client_secret = %env  SH_CLIENT_SECRET"
   ]
  },
  {
   "cell_type": "markdown",
   "id": "c631e95b-7d8a-4a38-a73c-08f9b46e5f44",
   "metadata": {},
   "source": [
    "Load data from Sentinel HUB. For other collections check the DataCollection or examples folder."
   ]
  },
  {
   "cell_type": "markdown",
   "id": "bf68e10a-e241-414e-99dd-a5366a21256c",
   "metadata": {},
   "source": [
    "List all available collections (in some cases additional filter is needed in order to differenciate between the collection ids - e. g. DataCollection.SENTINEL1)"
   ]
  },
  {
   "cell_type": "markdown",
   "id": "12e4f22d-89de-44b5-9404-14ddd6310ec2",
   "metadata": {},
   "source": [
    "Initialize datacube engine"
   ]
  },
  {
   "cell_type": "code",
   "execution_count": null,
   "id": "7e501d5e-94c3-4d28-b9c3-627509b1d61f",
   "metadata": {},
   "outputs": [],
   "source": [
    "dc = engine.Datacube(sh_client_id=sh_client_id, sh_client_secret=sh_client_secret)"
   ]
  },
  {
   "cell_type": "code",
   "execution_count": null,
   "id": "e432e232-77ae-4733-b957-c7226e04d7ac",
   "metadata": {},
   "outputs": [],
   "source": [
    "products = dc.list_sh_products()\n",
    "#products"
   ]
  },
  {
   "cell_type": "code",
   "execution_count": null,
   "id": "bda5d60e-f63c-4fbb-b227-f551abcc9cd5",
   "metadata": {},
   "outputs": [],
   "source": [
    "bands = dc.list_sh_bands()\n",
    "#bands"
   ]
  },
  {
   "cell_type": "code",
   "execution_count": null,
   "id": "23b1ff16-5e28-4440-9536-fa9235377448",
   "metadata": {},
   "outputs": [],
   "source": [
    "col = dc.get_collection(\"SENTINEL2_L1C\")\n",
    "#col.bands"
   ]
  },
  {
   "cell_type": "markdown",
   "id": "63235ee6-4bf4-452c-a55c-a5d110456b0c",
   "metadata": {},
   "source": [
    "Load Sentinel 1 IW data. Additional filter with polarization needs to be specified. You can also limit the data by orbit."
   ]
  },
  {
   "cell_type": "code",
   "execution_count": null,
   "id": "0dbccc4a-9945-42c1-b140-35255bcbdf8e",
   "metadata": {},
   "outputs": [],
   "source": [
    "resolution = 20  # in meters\n",
    "longitude = (11.987527, 12.004914)\n",
    "latitude = (41.990797, 42.018348)\n",
    "\n",
    "time = (\"2019-01-01\", \"2019-01-04\")\n",
    "\n",
    "ds = dc.load(\n",
    "    product=DataCollection.SENTINEL2_L1C,\n",
    "    latitude=latitude,\n",
    "    longitude=longitude,\n",
    "    time=time,\n",
    "    sh_resolution=resolution,\n",
    ")"
   ]
  },
  {
   "cell_type": "markdown",
   "id": "6eaaba90-8dd2-4fef-91ba-9ec6398beef1",
   "metadata": {},
   "source": [
    "Display properties of the x-array datacube"
   ]
  },
  {
   "cell_type": "markdown",
   "id": "a9cce213-ad06-42ad-b8fa-96d6b85bd732",
   "metadata": {},
   "source": [
    "Store downloaded data to .nc format"
   ]
  },
  {
   "cell_type": "code",
   "execution_count": null,
   "id": "591962b0-759f-4df8-8d57-750fd873d223",
   "metadata": {},
   "outputs": [],
   "source": [
    "#ds.to_netcdf(\"s2_all_bands.nc\")"
   ]
  },
  {
   "cell_type": "markdown",
   "id": "807b0ea1-4b69-45d8-a8e2-1e18064abd15",
   "metadata": {},
   "source": [
    "You can load the data "
   ]
  },
  {
   "cell_type": "code",
   "execution_count": null,
   "id": "ad81829f-a227-4c9e-8791-aa369d40a53c",
   "metadata": {},
   "outputs": [],
   "source": [
    "#ds_stored = xr.open_dataset(\"s2_all_bands.nc\")\n",
    "#ds_stored"
   ]
  },
  {
   "cell_type": "markdown",
   "id": "5cc85ef9-ea7b-47f1-bec1-68908be18171",
   "metadata": {},
   "source": [
    "Dislay available time intervals"
   ]
  },
  {
   "cell_type": "code",
   "execution_count": null,
   "id": "38625114-4b4f-4b36-ae25-09f32b357ba3",
   "metadata": {},
   "outputs": [],
   "source": [
    "for t in ds.time:\n",
    "    print(f\"times: {t.data}\")"
   ]
  },
  {
   "cell_type": "markdown",
   "id": "9bdd2b1d-3d18-4d1b-acf0-30f8cc069ac7",
   "metadata": {},
   "source": [
    "Get first available frame"
   ]
  },
  {
   "cell_type": "code",
   "execution_count": null,
   "id": "9cba2d65-d443-44d8-a1fd-5c3f9dcae0b8",
   "metadata": {},
   "outputs": [],
   "source": [
    "crs = ccrs.UTM(\"18\")\n",
    "fig, ax = plt.subplots(nrows=1, ncols=len(ds.time), figsize=(12, 4), dpi=80)\n",
    "\n",
    "for idx, t in enumerate(ds.time):\n",
    "    print(f\"time: {t.data}\")\n",
    "    single_time_frame = ds.sel(time=ds.time[idx], bands=['B04','B03','B02'], drop=True)\n",
    "    single_time_frame= single_time_frame / single_time_frame.data.max()\n",
    "    imgplot = single_time_frame.plot.imshow(ax=ax[idx], x=\"lon\", y=\"lat\", rgb=\"bands\")\n",
    "    imgplot.set_cmap('OrRd')\n",
    "    ax[idx].axis('off')\n",
    "plt.show()"
   ]
  },
  {
   "cell_type": "code",
   "execution_count": null,
   "id": "80464f70-e445-4eaf-9a2c-12aeb2481e9f",
   "metadata": {},
   "outputs": [],
   "source": []
  }
 ],
 "metadata": {
  "kernelspec": {
   "display_name": "Python 3 (ipykernel)",
   "language": "python",
   "name": "python3"
  },
  "language_info": {
   "codemirror_mode": {
    "name": "ipython",
    "version": 3
   },
   "file_extension": ".py",
   "mimetype": "text/x-python",
   "name": "python",
   "nbconvert_exporter": "python",
   "pygments_lexer": "ipython3",
   "version": "3.8.10"
  }
 },
 "nbformat": 4,
 "nbformat_minor": 5
}
