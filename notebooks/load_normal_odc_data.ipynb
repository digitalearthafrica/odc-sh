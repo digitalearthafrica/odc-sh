{
 "cells": [
  {
   "cell_type": "code",
   "execution_count": null,
   "id": "cd0abdf2-9176-44ea-84f1-27f0d9d825db",
   "metadata": {},
   "outputs": [],
   "source": [
    "import numpy as np\n",
    "import xarray as xr\n",
    "import matplotlib.pyplot as plt\n",
    "import datetime\n",
    "import cartopy.crs as ccrs\n",
    "from sentinelhub import DataCollection\n",
    "\n",
    "%matplotlib inline"
   ]
  },
  {
   "cell_type": "code",
   "execution_count": null,
   "id": "bdc92f46-8987-4242-9037-ca4001722b69",
   "metadata": {},
   "outputs": [],
   "source": [
    "from odc_sh import engine"
   ]
  },
  {
   "cell_type": "code",
   "execution_count": null,
   "id": "8c3734cb-fa72-4115-a3d4-1a0b2f4b544f",
   "metadata": {},
   "outputs": [],
   "source": [
    "dc = engine.Datacube()"
   ]
  },
  {
   "cell_type": "code",
   "execution_count": null,
   "id": "c55a64bd-1bed-44c1-a154-f3c6c7d52b7f",
   "metadata": {},
   "outputs": [],
   "source": [
    "products = dc.list_products()\n",
    "\n",
    "display_columns = [\"name\",\n",
    "                   \"description\",\n",
    "                   \"default_crs\",\n",
    "                   \"default_resolution\"]\n",
    "\n",
    "products[display_columns].sort_index()"
   ]
  },
  {
   "cell_type": "code",
   "execution_count": null,
   "id": "09173227-e5ee-4d63-a62f-be74cce74bcf",
   "metadata": {},
   "outputs": [],
   "source": [
    "measurements = dc.list_measurements() \n",
    "measurements.filter(like='wofs_ls_summary_annual', axis=0) "
   ]
  },
  {
   "cell_type": "code",
   "execution_count": null,
   "id": "65869a4e-bb4e-4c09-8b6e-be704a7aacd8",
   "metadata": {},
   "outputs": [],
   "source": [
    "ds = dc.load(product=\"gm_s2_annual\",\n",
    "             x=(24.65, 24.75),\n",
    "             y=(-20.05, -20.15),\n",
    "             time=(\"2018-01-01\", \"2018-12-31\"),\n",
    "             measurements=['blue', 'green', 'red', 'nir', 'swir_1', 'swir_2', 'emad', 'bcmad', 'smad', 'red_edge_1'])"
   ]
  },
  {
   "cell_type": "code",
   "execution_count": null,
   "id": "bb7f77a2-cb3c-476a-ab13-8ae4946fc891",
   "metadata": {},
   "outputs": [],
   "source": [
    "ds"
   ]
  }
 ],
 "metadata": {
  "kernelspec": {
   "display_name": "Python 3 (ipykernel)",
   "language": "python",
   "name": "python3"
  },
  "language_info": {
   "codemirror_mode": {
    "name": "ipython",
    "version": 3
   },
   "file_extension": ".py",
   "mimetype": "text/x-python",
   "name": "python",
   "nbconvert_exporter": "python",
   "pygments_lexer": "ipython3",
   "version": "3.8.10"
  }
 },
 "nbformat": 4,
 "nbformat_minor": 5
}
