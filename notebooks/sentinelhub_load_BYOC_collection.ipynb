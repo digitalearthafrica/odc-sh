{
 "cells": [
  {
   "cell_type": "code",
   "execution_count": null,
   "id": "aee0675b-b951-436f-96ed-1a80867b3b27",
   "metadata": {},
   "outputs": [],
   "source": [
    "import os\n",
    "import numpy as np\n",
    "import xarray as xr\n",
    "import matplotlib.pyplot as plt\n",
    "import datetime\n",
    "from sentinelhub import DataCollection, SHConfig, SentinelHubBYOC, BBox, CRS\n",
    "import pandas\n",
    "\n",
    "%matplotlib inline\n",
    "\n",
    "from odc_sh import engine"
   ]
  },
  {
   "cell_type": "markdown",
   "id": "8de47c37-42bb-43b4-b172-3cea8fbe3a7a",
   "metadata": {},
   "source": [
    "Set Sentinel HUB credentials"
   ]
  },
  {
   "cell_type": "code",
   "execution_count": null,
   "id": "460be39b-41f7-4c38-bb94-3a9d75748878",
   "metadata": {},
   "outputs": [],
   "source": [
    "sh_client_id=\"\"\n",
    "sh_client_secret=\"\"\n",
    "\n",
    "if not sh_client_id:\n",
    "    sh_client_id = os.environ['SH_CLIENT_ID']\n",
    "\n",
    "if not sh_client_secret:\n",
    "    sh_client_secret = os.environ['SH_CLIENT_SECRET']"
   ]
  },
  {
   "cell_type": "markdown",
   "id": "152b8c08-aaf1-4977-8349-bd3b1f134d4d",
   "metadata": {},
   "source": [
    "Set id of your collection from the order"
   ]
  },
  {
   "cell_type": "code",
   "execution_count": null,
   "id": "b1abd069-accb-451f-8ee6-9ebada6a9514",
   "metadata": {},
   "outputs": [],
   "source": [
    "collection_id = \"\""
   ]
  },
  {
   "cell_type": "code",
   "execution_count": null,
   "id": "e77e2627-4fea-470d-b5b1-8f7ccb13ab0b",
   "metadata": {},
   "outputs": [],
   "source": [
    "dc = engine.Datacube(sh_client_id=sh_client_id, sh_client_secret=sh_client_secret)"
   ]
  },
  {
   "cell_type": "code",
   "execution_count": null,
   "id": "9025c167-ae25-4017-8d36-848993e4a2a3",
   "metadata": {},
   "outputs": [],
   "source": [
    "myCollection = dc.get_BYOC_collection(collection_id)\n",
    "myCollection"
   ]
  },
  {
   "cell_type": "code",
   "execution_count": null,
   "id": "4312fcf4-1501-40ea-8f87-bf2e6436c6d9",
   "metadata": {},
   "outputs": [],
   "source": [
    "#serch mapameters ... make \n",
    "resolution = 1  # in meters\n",
    "longitude = (15.633142, 15.642218)\n",
    "latitude = (46.406794, 46.413506)\n",
    "\n",
    "time = (\"2022-06-01\", \"2022-06-30\")\n",
    "\n",
    "ds = dc.load(\n",
    "    product=myCollection,\n",
    "    latitude=latitude,\n",
    "    longitude=longitude,\n",
    "    time=time,\n",
    "    sh_resolution=resolution,\n",
    ")"
   ]
  },
  {
   "cell_type": "code",
   "execution_count": null,
   "id": "bfc2144e-ed79-48a9-bc3f-2b46211ebf7e",
   "metadata": {},
   "outputs": [],
   "source": [
    "# draw AIRBUS SPOT data\n",
    "fig, ax = plt.subplots(nrows=1, ncols=len(ds.time), figsize=(12, 12), dpi=60)\n",
    "for idx, t in enumerate(ds.time):\n",
    "    single_time_frame = ds.sel(time=ds.time[idx], drop=True)\n",
    "    \n",
    "    weight = (single_time_frame.sel(bands=['B2']).data + single_time_frame.sel(bands=['B1']).data + single_time_frame.sel(bands=['B0']).data * 0.4) / 2.4;\n",
    "    ratio = single_time_frame.sel(bands=['PAN']).data/weight * 2.5  ;\n",
    "    \n",
    "    res = single_time_frame.sel(bands=['B2', 'B1', 'B0']) / 10000 * ratio\n",
    "    imgplot = res.plot.imshow(ax=ax, x=\"x\", y=\"y\", rgb=\"bands\")\n",
    "    imgplot.set_cmap('OrRd')\n",
    "    plt.axis('off')\n",
    "plt.show()"
   ]
  },
  {
   "cell_type": "code",
   "execution_count": null,
   "id": "f1e62071-3372-4699-89e8-83d0823d6352",
   "metadata": {},
   "outputs": [],
   "source": []
  }
 ],
 "metadata": {
  "kernelspec": {
   "display_name": "odc_env",
   "language": "python",
   "name": "python3"
  },
  "language_info": {
   "codemirror_mode": {
    "name": "ipython",
    "version": 3
   },
   "file_extension": ".py",
   "mimetype": "text/x-python",
   "name": "python",
   "nbconvert_exporter": "python",
   "pygments_lexer": "ipython3",
   "version": "3.8.13"
  },
  "vscode": {
   "interpreter": {
    "hash": "a2a24b19c07de222b1e110e52e9ad43b6c20323470c4464d7e3b9b27f385819c"
   }
  }
 },
 "nbformat": 4,
 "nbformat_minor": 5
}
