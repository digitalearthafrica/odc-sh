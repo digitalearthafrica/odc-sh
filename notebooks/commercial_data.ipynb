{
 "cells": [
  {
   "cell_type": "code",
   "execution_count": null,
   "id": "b5a550d8",
   "metadata": {},
   "outputs": [],
   "source": [
    "#!pip install sentinelhub"
   ]
  },
  {
   "cell_type": "markdown",
   "id": "5362160a",
   "metadata": {},
   "source": [
    "# Commercial data"
   ]
  },
  {
   "cell_type": "markdown",
   "id": "aa55df62",
   "metadata": {},
   "source": [
    "For use of commercial data you have to first provide your sentinel-hub account client id and client secret."
   ]
  },
  {
   "cell_type": "code",
   "execution_count": null,
   "id": "1f03898b",
   "metadata": {},
   "outputs": [],
   "source": [
    "from sentinelhub import SHConfig\n",
    "from oauthlib.oauth2 import BackendApplicationClient\n",
    "from requests_oauthlib import OAuth2Session\n",
    "from odc_sh import SentinelHubCommercialData\n",
    "from odc_sh import Providers, AirbusConstellation, ThumbnailType, WorldViewKernel, WorldViewSensor, SkySatType, SkySatBundle, ScopeType, ScopeBundle\n",
    "import pandas as pd\n",
    "from tabulate import tabulate\n",
    "\n",
    "config = SHConfig()\n",
    "config.sh_client_id = '<client-id>'\n",
    "config.sh_client_secret = '<clinet-secret>'\n",
    "\n",
    "shcd = SentinelHubCommercialData(config)"
   ]
  },
  {
   "cell_type": "markdown",
   "id": "8c8ebab3",
   "metadata": {},
   "source": [
    "## Getting quotas"
   ]
  },
  {
   "cell_type": "code",
   "execution_count": null,
   "id": "0813e6d0",
   "metadata": {
    "scrolled": true
   },
   "outputs": [],
   "source": [
    "# Optional 1: To get single quota add id as parameter\n",
    "#\n",
    "#     shcd.quotas(\"asd124-12ddas...\")\n",
    "#\n",
    "# Optional 2: Get raw response\n",
    "#\n",
    "#     shcd.quotas(raw=True)\n",
    "#\n",
    "\n",
    "q = shcd.quotas()\n",
    "print(q)\n"
   ]
  },
  {
   "cell_type": "markdown",
   "id": "d54b6174",
   "metadata": {},
   "source": [
    "# Simple search"
   ]
  },
  {
   "cell_type": "markdown",
   "id": "69b71d5f",
   "metadata": {},
   "source": [
    "Setting date and time"
   ]
  },
  {
   "cell_type": "code",
   "execution_count": null,
   "id": "5766cfcb",
   "metadata": {},
   "outputs": [],
   "source": [
    "time_from = \"2017-05-25T00:00:00Z\"\n",
    "time_to = \"2018-10-25T23:59:59Z\""
   ]
  },
  {
   "cell_type": "markdown",
   "id": "64bc549e",
   "metadata": {},
   "source": [
    "Setting search area"
   ]
  },
  {
   "cell_type": "code",
   "execution_count": null,
   "id": "cac55510",
   "metadata": {},
   "outputs": [],
   "source": [
    "# Option 1: Set bounds as bbox\n",
    "bounds = [\n",
    "  12.742243,\n",
    "  42.05043,\n",
    "  12.746302,\n",
    "  42.053218\n",
    "]\n",
    "\n",
    "# Option 2: Set bounds as Polygon\n",
    "bounds = {\n",
    "  \"type\": \"Polygon\",\n",
    "  \"coordinates\": [\n",
    "   [\n",
    "    [\n",
    "     12.500395,\n",
    "     41.931337\n",
    "    ],\n",
    "    [\n",
    "     12.507856,\n",
    "     41.931018\n",
    "    ],\n",
    "    [\n",
    "     12.507513,\n",
    "     41.927825\n",
    "    ],\n",
    "    [\n",
    "     12.50048,\n",
    "     41.928719\n",
    "    ],\n",
    "    [\n",
    "     12.500395,\n",
    "     41.931337\n",
    "    ]\n",
    "   ]\n",
    "  ]\n",
    " }"
   ]
  },
  {
   "cell_type": "markdown",
   "id": "c3b47a26",
   "metadata": {},
   "source": [
    "## Choose one of the providers below"
   ]
  },
  {
   "cell_type": "markdown",
   "id": "62297a90",
   "metadata": {},
   "source": [
    "### 1. AIRBUS Pleiades & SPOT"
   ]
  },
  {
   "cell_type": "code",
   "execution_count": null,
   "id": "d24df2d7",
   "metadata": {},
   "outputs": [],
   "source": [
    "\n",
    "# Option 1: AIRBUS Pleiades & SPOT\n",
    "# Optional parameters: \n",
    "#    - maxCloudCoverage (Values: 0-100 | 100 as default)\n",
    "#    - maxSnowCoverage (Vaules: 0-90 | 90 as default)\n",
    "#    - maxIncidenceAngle (Values: 0-90 | 90 as default)\n",
    "#    - processingLevel (Values: \"Sensor\",\"Album\" | \"Sensor\",\"Album\" as default)\n",
    "#\n",
    "#  example: shcd.search_airbus(AirbusConstellation, Bounds, Time_From, Time_To, *Optional parameters*)\n",
    "\n",
    "res = shcd.search_airbus(AirbusConstellation.SPOT, bounds, time_from, time_to, maxCloudCoverage=90, maxSnowCoverage=50)\n",
    "\n",
    "# Getting ids\n",
    "item_ids = [feature[\"properties\"][\"id\"] for feature in res.data.features]\n",
    "\n",
    "props = [\"id\", \"acquisitionDate\", \"resolution\", \"cloudCover\", \"incidenceAngle\"]\n",
    "res.print(props)\n"
   ]
  },
  {
   "cell_type": "markdown",
   "id": "b8b2e784",
   "metadata": {},
   "source": [
    "### 2. Planet SCOPE"
   ]
  },
  {
   "cell_type": "code",
   "execution_count": null,
   "id": "e4ea0547",
   "metadata": {},
   "outputs": [],
   "source": [
    "\n",
    "# Option 2: Planet SCOPE\n",
    "# Optional parameters: \n",
    "#    - maxCloudCoverage (Values: 0-100 | 100 as default)\n",
    "#\n",
    "#  example: shcd.search_airbus(ScopeType, ScopeBundle, Bounds, Time_From, Time_To, *Optional parameters*)\n",
    "\n",
    "res = shcd.search_planet(ScopeType.PSScene, ScopeBundle.ANALYTIC_UDM2, bounds, time_from, time_to, maxCloudCoverage=90)\n",
    "\n",
    "# Getting ids\n",
    "item_ids = [feature[\"id\"] for feature in res.data.features]\n",
    "\n",
    "props = [\"cloud_cover\", \"snow_ice_percent\", \"acquired\", \"pixel_resolution\"]\n",
    "res.print(props)\n"
   ]
  },
  {
   "cell_type": "markdown",
   "id": "ad114193",
   "metadata": {},
   "source": [
    "### 3. Planet SkySat"
   ]
  },
  {
   "cell_type": "code",
   "execution_count": null,
   "id": "24e1124b",
   "metadata": {},
   "outputs": [],
   "source": [
    "\n",
    "# Option 3: Planet SkySat\n",
    "#\n",
    "#  example: shcd.search_airbus(ScopeType, ScopeBundle, Bounds, Time_From, Time_To, planetApiKey=<your_planey_api_key>)\n",
    "\n",
    "res = shcd.search_planet(SkySatType.SkySatCollect, SkySatBundle.PANCHROMATIC, bounds, time_from, time_to, planetApiKey=\"\")\n",
    "\n",
    "# Getting ids\n",
    "item_ids = [feature[\"id\"] for feature in res.data.features]\n",
    "\n",
    "props = [\"cloud_cover\", \"snow_ice_percent\", \"acquired\", \"pixel_resolution\"]\n",
    "res.print(props)\n"
   ]
  },
  {
   "cell_type": "markdown",
   "id": "82f13c72",
   "metadata": {},
   "source": [
    "### 4. WorldView"
   ]
  },
  {
   "cell_type": "code",
   "execution_count": null,
   "id": "00a54759",
   "metadata": {},
   "outputs": [],
   "source": [
    "\n",
    "# Option 4: WorldView MAXAR\n",
    "# Optional parameters:\n",
    "#    - maxCloudCoverage (Values: 0-100 | 100 as default)\n",
    "#    - minOffNadir (Values: 0-45 | 0 as default)\n",
    "#    - maxOffNadir (Values: 0-45 | 45 as default)\n",
    "#    - minSunElevation (Values: 0-90 | o as default)\n",
    "#    - maxSunElevation (Values: 0-90 | 90 as default)\n",
    "#    - sensor (Values: WorldViewSensor | Any as default)\n",
    "#\n",
    "#  example: shcd.search_airbus(WorldViewKernel, ScopeBundle, Bounds, Time_From, Time_To, *Optional parameters*)\n",
    "#\n",
    "\n",
    "res = shcd.search_worldview(WorldViewKernel.MTF, bounds, time_from, time_to, sensor=WorldViewSensor.WV01.value)\n",
    "\n",
    "# Getting ids\n",
    "item_ids = [feature[\"catalogID\"] for feature in res.data.features]\n",
    "\n",
    "\n",
    "props = [\"catalogId\", \"sensor\", \"maxSunAzimuth\", \"acquisitionDateStart\", \"meanSunElevation\"]\n",
    "res.print(props)\n",
    "    \n"
   ]
  },
  {
   "cell_type": "markdown",
   "id": "dbef13b0",
   "metadata": {},
   "source": [
    "## Error checking"
   ]
  },
  {
   "cell_type": "code",
   "execution_count": null,
   "id": "ea260172",
   "metadata": {},
   "outputs": [],
   "source": [
    "if not len(res.data.features):\n",
    "    print(\"No data found in request above.\")"
   ]
  },
  {
   "cell_type": "markdown",
   "id": "1939c1ef",
   "metadata": {},
   "source": [
    "## Thumbnail"
   ]
  },
  {
   "cell_type": "code",
   "execution_count": null,
   "id": "a6c257db",
   "metadata": {},
   "outputs": [],
   "source": [
    "import io\n",
    "from PIL import Image\n",
    "import matplotlib.pyplot as plt\n",
    "\n",
    "# Define product ids for a preview\n",
    "# item_id = [item_ids[0], item_ids[1], item_ids[2]...]\n",
    "selected_ids = [item_ids[0], item_ids[1]] if len(res.data.features) else []\n",
    "if not len(selected_ids):\n",
    "    print(\"No ids found.\")\n",
    "\n",
    "for sid in selected_ids:\n",
    "    thumbnail = shcd.thumbnail(res.thumb, sid)\n",
    "    image_bytes = io.BytesIO(thumbnail.content)\n",
    "    image = Image.open(image_bytes)\n",
    "    plt.imshow(image)\n",
    "    plt.show()\n",
    "    "
   ]
  },
  {
   "cell_type": "markdown",
   "id": "c2dbfacd",
   "metadata": {},
   "source": [
    "# Data Order"
   ]
  },
  {
   "cell_type": "markdown",
   "id": "8e62ca30",
   "metadata": {},
   "source": [
    "### OPTIONAL: Getting compatible collections"
   ]
  },
  {
   "cell_type": "code",
   "execution_count": null,
   "id": "230e690e",
   "metadata": {},
   "outputs": [],
   "source": [
    "collections = shcd.get_collection(res.query)\n",
    "if collections:\n",
    "    props = [\"id\", \"name\", \"created\"]\n",
    "    collections.print(props)\n",
    "else:\n",
    "    print(\"No collection found\")"
   ]
  },
  {
   "cell_type": "markdown",
   "id": "c67210c2",
   "metadata": {},
   "source": [
    "#### Select collection id"
   ]
  },
  {
   "cell_type": "code",
   "execution_count": null,
   "id": "3b05121e",
   "metadata": {},
   "outputs": [],
   "source": [
    "colIdx = -1 # Idx number from search above\n",
    "collectionId = collections.data[colIdx][\"id\"]"
   ]
  },
  {
   "cell_type": "markdown",
   "id": "1441fd7e",
   "metadata": {},
   "source": [
    "### Query order: Airbus, Planet SkySat and Scope"
   ]
  },
  {
   "cell_type": "code",
   "execution_count": null,
   "id": "46fe2e9f",
   "metadata": {},
   "outputs": [],
   "source": [
    "# Optional parametrs:\n",
    "#  - collectionId\n",
    "#\n",
    "# example: shcd.order(\"Order name\", Query, *Optional_parameters*)\n",
    "\n",
    "# response = shcd.order(\"New query order\", res.query)"
   ]
  },
  {
   "cell_type": "markdown",
   "id": "2edc51ad",
   "metadata": {},
   "source": [
    "### Normal order: Airbus, Planet SkySat and Scope"
   ]
  },
  {
   "cell_type": "code",
   "execution_count": null,
   "id": "a26a72f7",
   "metadata": {
    "scrolled": true
   },
   "outputs": [],
   "source": [
    "# Optional parametrs:\n",
    "#  - collectionId\n",
    "#\n",
    "# example: shcd.order(\"Order name\", Query, Items_Ids)\n",
    "# example with collectionId: shcd.order(\"Order name\", Query, Items_Ids, collectionId=collectionId)\n",
    "\n",
    "\n",
    "response = shcd.order(\"New normal order 11\", res.query, item_ids=selected_ids)\n",
    "\n",
    "if not type(response) == str:\n",
    "    props = [\"id\",\"userId\",\"created\",\"name\", \"provider\", \"sqkm\", \"status\"]\n",
    "    print(pd.DataFrame(\n",
    "    map(lambda h: response[h], props), props\n",
    "    ))\n",
    "else:\n",
    "    print(response)"
   ]
  },
  {
   "cell_type": "markdown",
   "id": "1d2cf256",
   "metadata": {},
   "source": [
    "### Getting orders"
   ]
  },
  {
   "cell_type": "code",
   "execution_count": null,
   "id": "20c0ec6f",
   "metadata": {},
   "outputs": [],
   "source": [
    "# Optional: Get single order by adding order_id as parameter\n",
    "# example: shcd.get_orders(\"asdf12-12bfa...\")\n",
    "\n",
    "orders = shcd.get_orders()\n",
    "order_ids = [o[\"id\"] for o in orders.data]\n",
    "\n",
    "props = [\"id\",\"created\",\"name\", \"provider\", \"sqkm\", \"status\"]\n",
    "orders.print(props)"
   ]
  },
  {
   "cell_type": "markdown",
   "id": "62d2565c",
   "metadata": {},
   "source": [
    "### Delete order"
   ]
  },
  {
   "cell_type": "code",
   "execution_count": null,
   "id": "521d4793",
   "metadata": {},
   "outputs": [],
   "source": [
    "order_id = \"74dcc7b3-20...\" #you can use order_ids[1]\n",
    "\n",
    "res = shcd.delete_order(order_id)\n",
    "print(res)"
   ]
  },
  {
   "cell_type": "markdown",
   "id": "23eca9b0",
   "metadata": {},
   "source": [
    "### Confirm order"
   ]
  },
  {
   "cell_type": "code",
   "execution_count": null,
   "id": "7ddbfd91",
   "metadata": {},
   "outputs": [],
   "source": [
    "res = shcd.confirm_order(idx)\n",
    "if type(res) == str:\n",
    "    print(res)\n",
    "else:\n",
    "    props = [\"id\",\"userId\",\"created\",\"name\", \"collectionId\", \"provider\", \"sqkm\", \"status\"]\n",
    "    print(pd.DataFrame(\n",
    "    map(lambda h: res[h], props), props\n",
    "    ))"
   ]
  }
 ],
 "metadata": {
  "kernelspec": {
   "display_name": "Python 3 (ipykernel)",
   "language": "python",
   "name": "python3"
  },
  "language_info": {
   "codemirror_mode": {
    "name": "ipython",
    "version": 3
   },
   "file_extension": ".py",
   "mimetype": "text/x-python",
   "name": "python",
   "nbconvert_exporter": "python",
   "pygments_lexer": "ipython3",
   "version": "3.9.13"
  },
  "vscode": {
   "interpreter": {
    "hash": "a2a24b19c07de222b1e110e52e9ad43b6c20323470c4464d7e3b9b27f385819c"
   }
  }
 },
 "nbformat": 4,
 "nbformat_minor": 5
}
